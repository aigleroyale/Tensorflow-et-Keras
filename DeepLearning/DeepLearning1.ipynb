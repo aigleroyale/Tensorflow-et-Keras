{
  "nbformat": 4,
  "nbformat_minor": 0,
  "metadata": {
    "colab": {
      "provenance": [],
      "collapsed_sections": []
    },
    "kernelspec": {
      "name": "python3",
      "display_name": "Python 3"
    },
    "language_info": {
      "name": "python"
    }
  },
  "cells": [
    {
      "cell_type": "markdown",
      "source": [
        "# **DEEP LEARNING AVEC TENSORFLOW ET L'API FONCTIONNELLE KERAS**"
      ],
      "metadata": {
        "id": "fpPf1KZ-zIj8"
      }
    },
    {
      "cell_type": "markdown",
      "source": [
        "## Installer"
      ],
      "metadata": {
        "id": "zQqD8K3v0CN1"
      }
    },
    {
      "cell_type": "code",
      "source": [
        "from tensorflow import keras\n",
        "from tensorflow.keras import layers\n",
        "\n",
        "import numpy as np"
      ],
      "metadata": {
        "id": "2sy_tyf_zYZQ"
      },
      "execution_count": 2,
      "outputs": []
    },
    {
      "cell_type": "markdown",
      "source": [
        "## Exemple simple\n",
        "\n",
        "un modèle fonctionnel simple à deux couches"
      ],
      "metadata": {
        "id": "O2L2AuFD0kp9"
      }
    },
    {
      "cell_type": "code",
      "source": [
        "# Déclarer une entrée (l'échantillon a la forme 3,1)\n",
        "inputs = keras.Input(shape=(3,), name = \"my_input\")\n",
        "\n",
        "# Créer une couche et l'appeler en entrée\n",
        "features = layers.Dense(64, activation=\"relu\")(inputs)\n",
        "\n",
        "# Créer la couche de sortie finale et l'appeler sur les caractéristiques\n",
        "outputs = layers.Dense(10, activation=\"softmax\")(features)\n",
        "\n",
        "# Spécifier les entrées et les sorties dans le constructeur du modèle\n",
        "model = keras.Model(inputs = inputs, outputs = outputs)\n"
      ],
      "metadata": {
        "id": "1mZhWuO60Ytj"
      },
      "execution_count": 3,
      "outputs": []
    },
    {
      "cell_type": "code",
      "source": [
        "# Regardons les objets\n",
        "print(inputs.shape)\n",
        "print(inputs.dtype)\n",
        "print(features.shape)"
      ],
      "metadata": {
        "colab": {
          "base_uri": "https://localhost:8080/"
        },
        "id": "T3Cs3Cu_2kFs",
        "outputId": "2a6a7deb-adf5-427e-cbdf-bb8bc29a5627"
      },
      "execution_count": 8,
      "outputs": [
        {
          "output_type": "stream",
          "name": "stdout",
          "text": [
            "(None, 3)\n",
            "<dtype: 'float32'>\n",
            "(None, 64)\n"
          ]
        }
      ]
    },
    {
      "cell_type": "code",
      "source": [
        "# Resumé du modèle\n",
        "model.summary()\n"
      ],
      "metadata": {
        "colab": {
          "base_uri": "https://localhost:8080/"
        },
        "id": "19vlPKVY2nou",
        "outputId": "eefb8839-968f-4d49-ff99-a63ad8eee1fc"
      },
      "execution_count": 9,
      "outputs": [
        {
          "output_type": "stream",
          "name": "stdout",
          "text": [
            "Model: \"model\"\n",
            "_________________________________________________________________\n",
            " Layer (type)                Output Shape              Param #   \n",
            "=================================================================\n",
            " my_input (InputLayer)       [(None, 3)]               0         \n",
            "                                                                 \n",
            " dense (Dense)               (None, 64)                256       \n",
            "                                                                 \n",
            " dense_1 (Dense)             (None, 10)                650       \n",
            "                                                                 \n",
            "=================================================================\n",
            "Total params: 906\n",
            "Trainable params: 906\n",
            "Non-trainable params: 0\n",
            "_________________________________________________________________\n"
          ]
        }
      ]
    },
    {
      "cell_type": "markdown",
      "source": [
        "# Multi-entrées, multi-sorties\n",
        "\n",
        "** Notre modèle comporte trois entrées :\n",
        "\n",
        "Le titre du ticket (saisie de texte)\n",
        "\n",
        "Le corps du texte du ticket (saisie de texte)\n",
        "\n",
        "Toutes les balises ajoutées par l'utilisateur (entrée catégorique, supposée ici être encodée à chaud)\n",
        "\n",
        "** Notre modèle a également deux sorties :\n",
        "\n",
        "- Le score de priorité du ticket, un scalaire entre 0 et 1 (sortie sigmoïde)\n",
        "- Le département qui doit gérer le ticket (un softmax sur l'ensemble des départements)"
      ],
      "metadata": {
        "id": "2g5eBQN26PQD"
      }
    },
    {
      "cell_type": "code",
      "source": [
        "# definition des variables\n",
        "vocabulary_size = 10000\n",
        "num_tags = 100\n",
        "num_departements = 4\n",
        "\n",
        "# definition des entrées\n",
        "title = keras.Input(shape=(vocabulary_size,), name='title')\n",
        "text_body = keras.Input(shape=(vocabulary_size,), name = \"text_body\")\n",
        "tags = keras.Input(shape=(num_tags,), name = \"tags\")\n",
        "\n",
        "# les caractéristiques\n",
        "features = layers.Concatenate()([title, text_body, tags])\n",
        "features = layers.Dense(64, activation = \"relu\")(features)\n",
        "\n",
        "# definition des sorties\n",
        "\n",
        "priority = layers.Dense(1, activation = \"sigmoid\", name = \"priority\")(features)\n",
        "departement = layers.Dense(num_departements, activation=\"softmax\", name =\"departement\")(features)\n",
        "\n",
        "# creation du modele\n",
        "\n",
        "model = keras.Model(inputs = [title, text_body, tags], outputs = [priority, departement])"
      ],
      "metadata": {
        "id": "HAUDIOYl5PyK"
      },
      "execution_count": 21,
      "outputs": []
    },
    {
      "cell_type": "markdown",
      "source": [
        "## Entrainement\n",
        "\n",
        "Option 1 : Fournir des listes de tableaux d'entrée et de cible\n",
        "\n",
        "Tout d'abord, nous créons des données d'entrée aléatoires avec des valeurs comprises entre 0 et 2 ainsi que des données aléatoires pour nos étiquettes. Nous utiliserons ces données pour entraîner notre modèle :"
      ],
      "metadata": {
        "id": "HI1IrTMv9CTE"
      }
    },
    {
      "cell_type": "code",
      "source": [
        "num_samples = 100\n",
        "\n",
        "title_data = np.random.randint(0, 2, size = (num_samples, vocabulary_size))\n",
        "text_body_data = np.random.randint(0, 2, size = (num_samples, vocabulary_size))\n",
        "tags_data = np.random.randint(0, 2, size = (num_samples, num_tags))\n",
        "\n",
        "# creation de labels aleatoires\n",
        "\n",
        "priority_data = np.random.random(size = (num_samples, 1))\n",
        "departement_data = np.random.randint(0, 2, size = (num_samples, num_departements))\n",
        "\n",
        "# compile modele\n",
        "\n",
        "model.compile(optimizer = \"rmsprop\",\n",
        "              loss = [\"mean_squared_error\", \"categorical_crossentropy\"],\n",
        "              metrics = [[\"mean_absolute_error\"], [\"accuracy\"]])\n",
        "\n",
        "# entrainement du modele\n",
        "\n",
        "model.fit([title_data, text_body_data, tags_data],\n",
        "          [priority_data, departement_data],\n",
        "          epochs=50)\n",
        "\n",
        "# evaluation du modele\n",
        "\n",
        "model.evaluate([title_data, text_body_data, tags_data],\n",
        "               [priority_data, departement_data])\n",
        "\n",
        "# faire des previsions\n",
        "\n",
        "priority_pred, departement_pred = model.predict([title_data, text_body_data, tags_data])\n",
        "\n"
      ],
      "metadata": {
        "colab": {
          "base_uri": "https://localhost:8080/"
        },
        "id": "j8T9nI_e9EMR",
        "outputId": "821ba4dd-a237-4674-d506-c1787bafe444"
      },
      "execution_count": 22,
      "outputs": [
        {
          "output_type": "stream",
          "name": "stdout",
          "text": [
            "Epoch 1/50\n",
            "4/4 [==============================] - 1s 12ms/step - loss: 38.8057 - priority_loss: 0.2640 - departement_loss: 38.5416 - priority_mean_absolute_error: 0.4167 - departement_accuracy: 0.1300\n",
            "Epoch 2/50\n",
            "4/4 [==============================] - 0s 11ms/step - loss: 72.1281 - priority_loss: 0.3162 - departement_loss: 71.8119 - priority_mean_absolute_error: 0.4641 - departement_accuracy: 0.1900\n",
            "Epoch 3/50\n",
            "4/4 [==============================] - 0s 10ms/step - loss: 30.1472 - priority_loss: 0.3162 - departement_loss: 29.8310 - priority_mean_absolute_error: 0.4641 - departement_accuracy: 0.2200\n",
            "Epoch 4/50\n",
            "4/4 [==============================] - 0s 10ms/step - loss: 29.7039 - priority_loss: 0.3162 - departement_loss: 29.3877 - priority_mean_absolute_error: 0.4641 - departement_accuracy: 0.1500\n",
            "Epoch 5/50\n",
            "4/4 [==============================] - 0s 10ms/step - loss: 26.4053 - priority_loss: 0.3162 - departement_loss: 26.0891 - priority_mean_absolute_error: 0.4641 - departement_accuracy: 0.1800\n",
            "Epoch 6/50\n",
            "4/4 [==============================] - 0s 10ms/step - loss: 30.5373 - priority_loss: 0.3162 - departement_loss: 30.2211 - priority_mean_absolute_error: 0.4641 - departement_accuracy: 0.3600\n",
            "Epoch 7/50\n",
            "4/4 [==============================] - 0s 10ms/step - loss: 20.9350 - priority_loss: 0.3162 - departement_loss: 20.6187 - priority_mean_absolute_error: 0.4641 - departement_accuracy: 0.4000\n",
            "Epoch 8/50\n",
            "4/4 [==============================] - 0s 10ms/step - loss: 32.6666 - priority_loss: 0.3162 - departement_loss: 32.3504 - priority_mean_absolute_error: 0.4641 - departement_accuracy: 0.3200\n",
            "Epoch 9/50\n",
            "4/4 [==============================] - 0s 10ms/step - loss: 12.0771 - priority_loss: 0.3162 - departement_loss: 11.7609 - priority_mean_absolute_error: 0.4641 - departement_accuracy: 0.4400\n",
            "Epoch 10/50\n",
            "4/4 [==============================] - 0s 10ms/step - loss: 21.4839 - priority_loss: 0.3162 - departement_loss: 21.1676 - priority_mean_absolute_error: 0.4641 - departement_accuracy: 0.4000\n",
            "Epoch 11/50\n",
            "4/4 [==============================] - 0s 10ms/step - loss: 16.4844 - priority_loss: 0.3162 - departement_loss: 16.1682 - priority_mean_absolute_error: 0.4641 - departement_accuracy: 0.3400\n",
            "Epoch 12/50\n",
            "4/4 [==============================] - 0s 10ms/step - loss: 16.2329 - priority_loss: 0.3162 - departement_loss: 15.9167 - priority_mean_absolute_error: 0.4641 - departement_accuracy: 0.4300\n",
            "Epoch 13/50\n",
            "4/4 [==============================] - 0s 9ms/step - loss: 19.7996 - priority_loss: 0.3162 - departement_loss: 19.4834 - priority_mean_absolute_error: 0.4641 - departement_accuracy: 0.4000\n",
            "Epoch 14/50\n",
            "4/4 [==============================] - 0s 10ms/step - loss: 19.9851 - priority_loss: 0.3162 - departement_loss: 19.6689 - priority_mean_absolute_error: 0.4641 - departement_accuracy: 0.4300\n",
            "Epoch 15/50\n",
            "4/4 [==============================] - 0s 9ms/step - loss: 29.1397 - priority_loss: 0.3162 - departement_loss: 28.8235 - priority_mean_absolute_error: 0.4641 - departement_accuracy: 0.3600\n",
            "Epoch 16/50\n",
            "4/4 [==============================] - 0s 10ms/step - loss: 28.7370 - priority_loss: 0.3162 - departement_loss: 28.4208 - priority_mean_absolute_error: 0.4641 - departement_accuracy: 0.3000\n",
            "Epoch 17/50\n",
            "4/4 [==============================] - 0s 10ms/step - loss: 18.5589 - priority_loss: 0.3162 - departement_loss: 18.2427 - priority_mean_absolute_error: 0.4641 - departement_accuracy: 0.4800\n",
            "Epoch 18/50\n",
            "4/4 [==============================] - 0s 10ms/step - loss: 30.3151 - priority_loss: 0.3162 - departement_loss: 29.9988 - priority_mean_absolute_error: 0.4641 - departement_accuracy: 0.3200\n",
            "Epoch 19/50\n",
            "4/4 [==============================] - 0s 10ms/step - loss: 37.1425 - priority_loss: 0.3162 - departement_loss: 36.8263 - priority_mean_absolute_error: 0.4641 - departement_accuracy: 0.2000\n",
            "Epoch 20/50\n",
            "4/4 [==============================] - 0s 10ms/step - loss: 26.1162 - priority_loss: 0.3162 - departement_loss: 25.8000 - priority_mean_absolute_error: 0.4641 - departement_accuracy: 0.3300\n",
            "Epoch 21/50\n",
            "4/4 [==============================] - 0s 10ms/step - loss: 22.5346 - priority_loss: 0.3162 - departement_loss: 22.2184 - priority_mean_absolute_error: 0.4641 - departement_accuracy: 0.4300\n",
            "Epoch 22/50\n",
            "4/4 [==============================] - 0s 10ms/step - loss: 29.9314 - priority_loss: 0.3162 - departement_loss: 29.6152 - priority_mean_absolute_error: 0.4641 - departement_accuracy: 0.3900\n",
            "Epoch 23/50\n",
            "4/4 [==============================] - 0s 14ms/step - loss: 25.7829 - priority_loss: 0.3162 - departement_loss: 25.4667 - priority_mean_absolute_error: 0.4641 - departement_accuracy: 0.4400\n",
            "Epoch 24/50\n",
            "4/4 [==============================] - 0s 10ms/step - loss: 20.8706 - priority_loss: 0.3162 - departement_loss: 20.5543 - priority_mean_absolute_error: 0.4641 - departement_accuracy: 0.4600\n",
            "Epoch 25/50\n",
            "4/4 [==============================] - 0s 10ms/step - loss: 16.1028 - priority_loss: 0.3162 - departement_loss: 15.7866 - priority_mean_absolute_error: 0.4641 - departement_accuracy: 0.4500\n",
            "Epoch 26/50\n",
            "4/4 [==============================] - 0s 10ms/step - loss: 15.6409 - priority_loss: 0.3162 - departement_loss: 15.3247 - priority_mean_absolute_error: 0.4641 - departement_accuracy: 0.3900\n",
            "Epoch 27/50\n",
            "4/4 [==============================] - 0s 10ms/step - loss: 45.0237 - priority_loss: 0.3162 - departement_loss: 44.7075 - priority_mean_absolute_error: 0.4641 - departement_accuracy: 0.2900\n",
            "Epoch 28/50\n",
            "4/4 [==============================] - 0s 12ms/step - loss: 24.1603 - priority_loss: 0.3162 - departement_loss: 23.8440 - priority_mean_absolute_error: 0.4641 - departement_accuracy: 0.3800\n",
            "Epoch 29/50\n",
            "4/4 [==============================] - 0s 10ms/step - loss: 14.8487 - priority_loss: 0.3162 - departement_loss: 14.5325 - priority_mean_absolute_error: 0.4641 - departement_accuracy: 0.4700\n",
            "Epoch 30/50\n",
            "4/4 [==============================] - 0s 10ms/step - loss: 32.2815 - priority_loss: 0.3162 - departement_loss: 31.9653 - priority_mean_absolute_error: 0.4641 - departement_accuracy: 0.4900\n",
            "Epoch 31/50\n",
            "4/4 [==============================] - 0s 10ms/step - loss: 24.4749 - priority_loss: 0.3162 - departement_loss: 24.1587 - priority_mean_absolute_error: 0.4641 - departement_accuracy: 0.4700\n",
            "Epoch 32/50\n",
            "4/4 [==============================] - 0s 10ms/step - loss: 27.7551 - priority_loss: 0.3162 - departement_loss: 27.4389 - priority_mean_absolute_error: 0.4641 - departement_accuracy: 0.3400\n",
            "Epoch 33/50\n",
            "4/4 [==============================] - 0s 11ms/step - loss: 34.2983 - priority_loss: 0.3162 - departement_loss: 33.9821 - priority_mean_absolute_error: 0.4641 - departement_accuracy: 0.3300\n",
            "Epoch 34/50\n",
            "4/4 [==============================] - 0s 10ms/step - loss: 39.0276 - priority_loss: 0.3162 - departement_loss: 38.7113 - priority_mean_absolute_error: 0.4641 - departement_accuracy: 0.5100\n",
            "Epoch 35/50\n",
            "4/4 [==============================] - 0s 11ms/step - loss: 44.2028 - priority_loss: 0.3162 - departement_loss: 43.8866 - priority_mean_absolute_error: 0.4641 - departement_accuracy: 0.3400\n",
            "Epoch 36/50\n",
            "4/4 [==============================] - 0s 10ms/step - loss: 29.2556 - priority_loss: 0.3162 - departement_loss: 28.9394 - priority_mean_absolute_error: 0.4641 - departement_accuracy: 0.3800\n",
            "Epoch 37/50\n",
            "4/4 [==============================] - 0s 9ms/step - loss: 45.1212 - priority_loss: 0.3162 - departement_loss: 44.8050 - priority_mean_absolute_error: 0.4641 - departement_accuracy: 0.4200\n",
            "Epoch 38/50\n",
            "4/4 [==============================] - 0s 12ms/step - loss: 35.4848 - priority_loss: 0.3162 - departement_loss: 35.1686 - priority_mean_absolute_error: 0.4641 - departement_accuracy: 0.4300\n",
            "Epoch 39/50\n",
            "4/4 [==============================] - 0s 10ms/step - loss: 35.6792 - priority_loss: 0.3162 - departement_loss: 35.3630 - priority_mean_absolute_error: 0.4641 - departement_accuracy: 0.5000\n",
            "Epoch 40/50\n",
            "4/4 [==============================] - 0s 10ms/step - loss: 23.3500 - priority_loss: 0.3162 - departement_loss: 23.0338 - priority_mean_absolute_error: 0.4641 - departement_accuracy: 0.3800\n",
            "Epoch 41/50\n",
            "4/4 [==============================] - 0s 10ms/step - loss: 27.2514 - priority_loss: 0.3162 - departement_loss: 26.9352 - priority_mean_absolute_error: 0.4641 - departement_accuracy: 0.4800\n",
            "Epoch 42/50\n",
            "4/4 [==============================] - 0s 11ms/step - loss: 34.4657 - priority_loss: 0.3162 - departement_loss: 34.1495 - priority_mean_absolute_error: 0.4641 - departement_accuracy: 0.3500\n",
            "Epoch 43/50\n",
            "4/4 [==============================] - 0s 10ms/step - loss: 42.1690 - priority_loss: 0.3162 - departement_loss: 41.8528 - priority_mean_absolute_error: 0.4641 - departement_accuracy: 0.3300\n",
            "Epoch 44/50\n",
            "4/4 [==============================] - 0s 11ms/step - loss: 41.9266 - priority_loss: 0.3162 - departement_loss: 41.6104 - priority_mean_absolute_error: 0.4641 - departement_accuracy: 0.3300\n",
            "Epoch 45/50\n",
            "4/4 [==============================] - 0s 10ms/step - loss: 51.1193 - priority_loss: 0.3162 - departement_loss: 50.8031 - priority_mean_absolute_error: 0.4641 - departement_accuracy: 0.4500\n",
            "Epoch 46/50\n",
            "4/4 [==============================] - 0s 10ms/step - loss: 38.5785 - priority_loss: 0.3162 - departement_loss: 38.2623 - priority_mean_absolute_error: 0.4641 - departement_accuracy: 0.4500\n",
            "Epoch 47/50\n",
            "4/4 [==============================] - 0s 10ms/step - loss: 37.1227 - priority_loss: 0.3162 - departement_loss: 36.8065 - priority_mean_absolute_error: 0.4641 - departement_accuracy: 0.4100\n",
            "Epoch 48/50\n",
            "4/4 [==============================] - 0s 10ms/step - loss: 22.7407 - priority_loss: 0.3162 - departement_loss: 22.4245 - priority_mean_absolute_error: 0.4641 - departement_accuracy: 0.4000\n",
            "Epoch 49/50\n",
            "4/4 [==============================] - 0s 11ms/step - loss: 56.4809 - priority_loss: 0.3162 - departement_loss: 56.1647 - priority_mean_absolute_error: 0.4641 - departement_accuracy: 0.2400\n",
            "Epoch 50/50\n",
            "4/4 [==============================] - 0s 9ms/step - loss: 53.3225 - priority_loss: 0.3162 - departement_loss: 53.0063 - priority_mean_absolute_error: 0.4641 - departement_accuracy: 0.3400\n",
            "4/4 [==============================] - 0s 5ms/step - loss: 70.5289 - priority_loss: 0.3162 - departement_loss: 70.2127 - priority_mean_absolute_error: 0.4641 - departement_accuracy: 0.2800\n",
            "4/4 [==============================] - 0s 4ms/step\n"
          ]
        }
      ]
    },
    {
      "cell_type": "markdown",
      "source": [
        "Option 2 : Fournir des dicts de tableaux d'entrée et de cible"
      ],
      "metadata": {
        "id": "OPnucLnlAHPD"
      }
    },
    {
      "cell_type": "code",
      "source": [
        "model.compile(optimizer=\"rmsprop\",\n",
        "              loss={\"priority\": \"mean_squared_error\", \"departement\": \"categorical_crossentropy\"},\n",
        "              metrics={\"priority\": [\"mean_absolute_error\"], \"departement\": [\"accuracy\"]})\n",
        "\n",
        "model.fit({\"title\": title_data, \"text_body\": text_body_data, \"tags\": tags_data},\n",
        "          {\"priority\": priority_data, \"departement\": departement_data},\n",
        "          epochs=50)\n",
        "\n",
        "model.evaluate({\"title\": title_data, \"text_body\": text_body_data, \"tags\": tags_data},\n",
        "               {\"priority\": priority_data, \"departement\": departement_data})\n",
        "\n",
        "priority_preds, department_preds = model.predict(\n",
        "    {\"title\": title_data, \"text_body\": text_body_data, \"tags\": tags_data})"
      ],
      "metadata": {
        "colab": {
          "base_uri": "https://localhost:8080/"
        },
        "id": "p5BmKhAHAJ68",
        "outputId": "d0b88db7-e805-4fb4-ac69-a1f7e4ad9ed0"
      },
      "execution_count": 19,
      "outputs": [
        {
          "output_type": "stream",
          "name": "stdout",
          "text": [
            "Epoch 1/50\n",
            "4/4 [==============================] - 1s 10ms/step - loss: 143.7820 - priority_loss: 0.3065 - departement_loss: 143.4756 - priority_mean_absolute_error: 0.4835 - departement_accuracy: 0.3000\n",
            "Epoch 2/50\n",
            "4/4 [==============================] - 0s 10ms/step - loss: 115.8050 - priority_loss: 0.3065 - departement_loss: 115.4985 - priority_mean_absolute_error: 0.4835 - departement_accuracy: 0.3200\n",
            "Epoch 3/50\n",
            "4/4 [==============================] - 0s 11ms/step - loss: 81.0052 - priority_loss: 0.3065 - departement_loss: 80.6987 - priority_mean_absolute_error: 0.4835 - departement_accuracy: 0.3200\n",
            "Epoch 4/50\n",
            "4/4 [==============================] - 0s 10ms/step - loss: 69.9624 - priority_loss: 0.3065 - departement_loss: 69.6560 - priority_mean_absolute_error: 0.4835 - departement_accuracy: 0.2600\n",
            "Epoch 5/50\n",
            "4/4 [==============================] - 0s 10ms/step - loss: 55.0677 - priority_loss: 0.3065 - departement_loss: 54.7613 - priority_mean_absolute_error: 0.4835 - departement_accuracy: 0.2700\n",
            "Epoch 6/50\n",
            "4/4 [==============================] - 0s 9ms/step - loss: 30.3195 - priority_loss: 0.3065 - departement_loss: 30.0131 - priority_mean_absolute_error: 0.4835 - departement_accuracy: 0.4300\n",
            "Epoch 7/50\n",
            "4/4 [==============================] - 0s 10ms/step - loss: 54.8807 - priority_loss: 0.3065 - departement_loss: 54.5742 - priority_mean_absolute_error: 0.4835 - departement_accuracy: 0.2500\n",
            "Epoch 8/50\n",
            "4/4 [==============================] - 0s 11ms/step - loss: 62.9389 - priority_loss: 0.3065 - departement_loss: 62.6325 - priority_mean_absolute_error: 0.4835 - departement_accuracy: 0.2900\n",
            "Epoch 9/50\n",
            "4/4 [==============================] - 0s 10ms/step - loss: 50.3720 - priority_loss: 0.3065 - departement_loss: 50.0656 - priority_mean_absolute_error: 0.4835 - departement_accuracy: 0.2400\n",
            "Epoch 10/50\n",
            "4/4 [==============================] - 0s 10ms/step - loss: 26.6306 - priority_loss: 0.3065 - departement_loss: 26.3242 - priority_mean_absolute_error: 0.4835 - departement_accuracy: 0.4500\n",
            "Epoch 11/50\n",
            "4/4 [==============================] - 0s 10ms/step - loss: 60.6906 - priority_loss: 0.3065 - departement_loss: 60.3842 - priority_mean_absolute_error: 0.4835 - departement_accuracy: 0.3200\n",
            "Epoch 12/50\n",
            "4/4 [==============================] - 0s 10ms/step - loss: 92.7824 - priority_loss: 0.3065 - departement_loss: 92.4760 - priority_mean_absolute_error: 0.4835 - departement_accuracy: 0.3300\n",
            "Epoch 13/50\n",
            "4/4 [==============================] - 0s 11ms/step - loss: 40.5548 - priority_loss: 0.3065 - departement_loss: 40.2483 - priority_mean_absolute_error: 0.4835 - departement_accuracy: 0.3800\n",
            "Epoch 14/50\n",
            "4/4 [==============================] - 0s 11ms/step - loss: 42.2742 - priority_loss: 0.3065 - departement_loss: 41.9677 - priority_mean_absolute_error: 0.4835 - departement_accuracy: 0.5500\n",
            "Epoch 15/50\n",
            "4/4 [==============================] - 0s 11ms/step - loss: 64.8626 - priority_loss: 0.3065 - departement_loss: 64.5562 - priority_mean_absolute_error: 0.4835 - departement_accuracy: 0.2600\n",
            "Epoch 16/50\n",
            "4/4 [==============================] - 0s 11ms/step - loss: 55.1936 - priority_loss: 0.3065 - departement_loss: 54.8872 - priority_mean_absolute_error: 0.4835 - departement_accuracy: 0.4500\n",
            "Epoch 17/50\n",
            "4/4 [==============================] - 0s 10ms/step - loss: 48.7405 - priority_loss: 0.3065 - departement_loss: 48.4341 - priority_mean_absolute_error: 0.4835 - departement_accuracy: 0.3400\n",
            "Epoch 18/50\n",
            "4/4 [==============================] - 0s 11ms/step - loss: 42.1183 - priority_loss: 0.3065 - departement_loss: 41.8119 - priority_mean_absolute_error: 0.4835 - departement_accuracy: 0.3800\n",
            "Epoch 19/50\n",
            "4/4 [==============================] - 0s 10ms/step - loss: 49.4386 - priority_loss: 0.3065 - departement_loss: 49.1321 - priority_mean_absolute_error: 0.4835 - departement_accuracy: 0.3500\n",
            "Epoch 20/50\n",
            "4/4 [==============================] - 0s 10ms/step - loss: 68.2349 - priority_loss: 0.3065 - departement_loss: 67.9285 - priority_mean_absolute_error: 0.4835 - departement_accuracy: 0.2300\n",
            "Epoch 21/50\n",
            "4/4 [==============================] - 0s 10ms/step - loss: 60.1600 - priority_loss: 0.3065 - departement_loss: 59.8535 - priority_mean_absolute_error: 0.4835 - departement_accuracy: 0.2600\n",
            "Epoch 22/50\n",
            "4/4 [==============================] - 0s 16ms/step - loss: 21.6857 - priority_loss: 0.3065 - departement_loss: 21.3793 - priority_mean_absolute_error: 0.4835 - departement_accuracy: 0.4600\n",
            "Epoch 23/50\n",
            "4/4 [==============================] - 0s 19ms/step - loss: 118.5567 - priority_loss: 0.3065 - departement_loss: 118.2503 - priority_mean_absolute_error: 0.4835 - departement_accuracy: 0.1700\n",
            "Epoch 24/50\n",
            "4/4 [==============================] - 0s 16ms/step - loss: 69.5462 - priority_loss: 0.3065 - departement_loss: 69.2398 - priority_mean_absolute_error: 0.4835 - departement_accuracy: 0.4000\n",
            "Epoch 25/50\n",
            "4/4 [==============================] - 0s 10ms/step - loss: 58.2619 - priority_loss: 0.3065 - departement_loss: 57.9555 - priority_mean_absolute_error: 0.4835 - departement_accuracy: 0.4900\n",
            "Epoch 26/50\n",
            "4/4 [==============================] - 0s 10ms/step - loss: 67.1906 - priority_loss: 0.3065 - departement_loss: 66.8841 - priority_mean_absolute_error: 0.4835 - departement_accuracy: 0.2800\n",
            "Epoch 27/50\n",
            "4/4 [==============================] - 0s 11ms/step - loss: 66.1150 - priority_loss: 0.3065 - departement_loss: 65.8085 - priority_mean_absolute_error: 0.4835 - departement_accuracy: 0.4400\n",
            "Epoch 28/50\n",
            "4/4 [==============================] - 0s 10ms/step - loss: 54.7250 - priority_loss: 0.3065 - departement_loss: 54.4186 - priority_mean_absolute_error: 0.4835 - departement_accuracy: 0.3900\n",
            "Epoch 29/50\n",
            "4/4 [==============================] - 0s 10ms/step - loss: 39.8770 - priority_loss: 0.3065 - departement_loss: 39.5706 - priority_mean_absolute_error: 0.4835 - departement_accuracy: 0.3900\n",
            "Epoch 30/50\n",
            "4/4 [==============================] - 0s 10ms/step - loss: 80.8005 - priority_loss: 0.3065 - departement_loss: 80.4940 - priority_mean_absolute_error: 0.4835 - departement_accuracy: 0.2900\n",
            "Epoch 31/50\n",
            "4/4 [==============================] - 0s 10ms/step - loss: 33.4337 - priority_loss: 0.3065 - departement_loss: 33.1272 - priority_mean_absolute_error: 0.4835 - departement_accuracy: 0.4300\n",
            "Epoch 32/50\n",
            "4/4 [==============================] - 0s 9ms/step - loss: 77.7738 - priority_loss: 0.3065 - departement_loss: 77.4674 - priority_mean_absolute_error: 0.4835 - departement_accuracy: 0.3000\n",
            "Epoch 33/50\n",
            "4/4 [==============================] - 0s 10ms/step - loss: 91.6200 - priority_loss: 0.3065 - departement_loss: 91.3135 - priority_mean_absolute_error: 0.4835 - departement_accuracy: 0.4600\n",
            "Epoch 34/50\n",
            "4/4 [==============================] - 0s 14ms/step - loss: 80.9372 - priority_loss: 0.3065 - departement_loss: 80.6307 - priority_mean_absolute_error: 0.4835 - departement_accuracy: 0.3300\n",
            "Epoch 35/50\n",
            "4/4 [==============================] - 0s 11ms/step - loss: 53.7385 - priority_loss: 0.3065 - departement_loss: 53.4320 - priority_mean_absolute_error: 0.4835 - departement_accuracy: 0.3700\n",
            "Epoch 36/50\n",
            "4/4 [==============================] - 0s 13ms/step - loss: 91.6902 - priority_loss: 0.3065 - departement_loss: 91.3838 - priority_mean_absolute_error: 0.4835 - departement_accuracy: 0.2800\n",
            "Epoch 37/50\n",
            "4/4 [==============================] - 0s 10ms/step - loss: 110.4115 - priority_loss: 0.3065 - departement_loss: 110.1050 - priority_mean_absolute_error: 0.4835 - departement_accuracy: 0.2300\n",
            "Epoch 38/50\n",
            "4/4 [==============================] - 0s 12ms/step - loss: 59.0652 - priority_loss: 0.3065 - departement_loss: 58.7587 - priority_mean_absolute_error: 0.4835 - departement_accuracy: 0.3200\n",
            "Epoch 39/50\n",
            "4/4 [==============================] - 0s 10ms/step - loss: 55.4917 - priority_loss: 0.3065 - departement_loss: 55.1852 - priority_mean_absolute_error: 0.4835 - departement_accuracy: 0.3700\n",
            "Epoch 40/50\n",
            "4/4 [==============================] - 0s 10ms/step - loss: 120.4325 - priority_loss: 0.3065 - departement_loss: 120.1261 - priority_mean_absolute_error: 0.4835 - departement_accuracy: 0.3400\n",
            "Epoch 41/50\n",
            "4/4 [==============================] - 0s 10ms/step - loss: 90.9150 - priority_loss: 0.3065 - departement_loss: 90.6086 - priority_mean_absolute_error: 0.4835 - departement_accuracy: 0.2600\n",
            "Epoch 42/50\n",
            "4/4 [==============================] - 0s 14ms/step - loss: 110.3533 - priority_loss: 0.3065 - departement_loss: 110.0468 - priority_mean_absolute_error: 0.4835 - departement_accuracy: 0.1000\n",
            "Epoch 43/50\n",
            "4/4 [==============================] - 0s 10ms/step - loss: 80.7479 - priority_loss: 0.3065 - departement_loss: 80.4414 - priority_mean_absolute_error: 0.4835 - departement_accuracy: 0.3600\n",
            "Epoch 44/50\n",
            "4/4 [==============================] - 0s 10ms/step - loss: 104.1333 - priority_loss: 0.3065 - departement_loss: 103.8268 - priority_mean_absolute_error: 0.4835 - departement_accuracy: 0.2900\n",
            "Epoch 45/50\n",
            "4/4 [==============================] - 0s 13ms/step - loss: 83.2541 - priority_loss: 0.3065 - departement_loss: 82.9476 - priority_mean_absolute_error: 0.4835 - departement_accuracy: 0.4000\n",
            "Epoch 46/50\n",
            "4/4 [==============================] - 0s 12ms/step - loss: 87.3182 - priority_loss: 0.3065 - departement_loss: 87.0117 - priority_mean_absolute_error: 0.4835 - departement_accuracy: 0.2900\n",
            "Epoch 47/50\n",
            "4/4 [==============================] - 0s 11ms/step - loss: 62.1125 - priority_loss: 0.3065 - departement_loss: 61.8060 - priority_mean_absolute_error: 0.4835 - departement_accuracy: 0.2800\n",
            "Epoch 48/50\n",
            "4/4 [==============================] - 0s 11ms/step - loss: 73.9842 - priority_loss: 0.3065 - departement_loss: 73.6777 - priority_mean_absolute_error: 0.4835 - departement_accuracy: 0.3100\n",
            "Epoch 49/50\n",
            "4/4 [==============================] - 0s 10ms/step - loss: 33.7774 - priority_loss: 0.3065 - departement_loss: 33.4710 - priority_mean_absolute_error: 0.4835 - departement_accuracy: 0.3800\n",
            "Epoch 50/50\n",
            "4/4 [==============================] - 0s 9ms/step - loss: 126.4507 - priority_loss: 0.3065 - departement_loss: 126.1443 - priority_mean_absolute_error: 0.4835 - departement_accuracy: 0.2600\n",
            "4/4 [==============================] - 0s 5ms/step - loss: 140.9240 - priority_loss: 0.3065 - departement_loss: 140.6175 - priority_mean_absolute_error: 0.4835 - departement_accuracy: 0.1300\n",
            "4/4 [==============================] - 0s 5ms/step\n"
          ]
        }
      ]
    },
    {
      "cell_type": "markdown",
      "source": [
        "## Acceder aux calques\n",
        "\n",
        "- visualiser le modele\n",
        "\n",
        "- extraction des caracteristiques"
      ],
      "metadata": {
        "id": "aacaqbYVBK0W"
      }
    },
    {
      "cell_type": "code",
      "source": [
        "keras.utils.plot_model(model, \"ticket_classifier.png\")"
      ],
      "metadata": {
        "colab": {
          "base_uri": "https://localhost:8080/",
          "height": 369
        },
        "id": "8Zj529vvBPPn",
        "outputId": "33df2c2a-e48e-4bc9-8ef0-c8e222c6ff3e"
      },
      "execution_count": 23,
      "outputs": [
        {
          "output_type": "execute_result",
          "data": {
            "image/png": "[encoded data removed]",
            "text/plain": [
              "<IPython.core.display.Image object>"
            ]
          },
          "metadata": {},
          "execution_count": 23
        }
      ]
    },
    {
      "cell_type": "code",
      "source": [
        "keras.utils.plot_model(model, \"ticket_classifier_with_shape_info.png\",  show_shapes=True)"
      ],
      "metadata": {
        "colab": {
          "base_uri": "https://localhost:8080/",
          "height": 422
        },
        "id": "IC3j1kLNCovb",
        "outputId": "dca2edea-50c5-414b-859a-7c46c0117362"
      },
      "execution_count": 24,
      "outputs": [
        {
          "output_type": "execute_result",
          "data": {
            "image/png": "[encoded data removed]",
            "text/plain": [
              "<IPython.core.display.Image object>"
            ]
          },
          "metadata": {},
          "execution_count": 24
        }
      ]
    },
    {
      "cell_type": "markdown",
      "source": [
        "# Recuperation des entrées ou des sorties"
      ],
      "metadata": {
        "id": "PxAgBMSpDJae"
      }
    },
    {
      "cell_type": "code",
      "source": [
        "model.layers"
      ],
      "metadata": {
        "colab": {
          "base_uri": "https://localhost:8080/"
        },
        "id": "FvarRfbWHwQl",
        "outputId": "865c5974-e77d-4bc9-ea96-42bb6e464626"
      },
      "execution_count": 25,
      "outputs": [
        {
          "output_type": "execute_result",
          "data": {
            "text/plain": [
              "[<keras.engine.input_layer.InputLayer at 0x7f3fafe3d290>,\n",
              " <keras.engine.input_layer.InputLayer at 0x7f3fafe3d450>,\n",
              " <keras.engine.input_layer.InputLayer at 0x7f3fafdc2f90>,\n",
              " <keras.layers.merging.concatenate.Concatenate at 0x7f3fafdc7a10>,\n",
              " <keras.layers.core.dense.Dense at 0x7f3fb6cce110>,\n",
              " <keras.layers.core.dense.Dense at 0x7f3fb0026d90>,\n",
              " <keras.layers.core.dense.Dense at 0x7f3fafdc7d90>]"
            ]
          },
          "metadata": {},
          "execution_count": 25
        }
      ]
    },
    {
      "cell_type": "code",
      "source": [
        "model.layers[3].input"
      ],
      "metadata": {
        "colab": {
          "base_uri": "https://localhost:8080/"
        },
        "id": "fP9HONTrH5Ta",
        "outputId": "98c0fc4d-b535-40fc-f6b3-d139a7fe1c22"
      },
      "execution_count": 27,
      "outputs": [
        {
          "output_type": "execute_result",
          "data": {
            "text/plain": [
              "[<KerasTensor: shape=(None, 10000) dtype=float32 (created by layer 'title')>,\n",
              " <KerasTensor: shape=(None, 10000) dtype=float32 (created by layer 'text_body')>,\n",
              " <KerasTensor: shape=(None, 100) dtype=float32 (created by layer 'tags')>]"
            ]
          },
          "metadata": {},
          "execution_count": 27
        }
      ]
    },
    {
      "cell_type": "code",
      "source": [
        "model.layers[3].output"
      ],
      "metadata": {
        "colab": {
          "base_uri": "https://localhost:8080/"
        },
        "id": "MVXdb8e0IFKm",
        "outputId": "bf62f713-93dd-458f-fdcc-070403b59d8d"
      },
      "execution_count": 28,
      "outputs": [
        {
          "output_type": "execute_result",
          "data": {
            "text/plain": [
              "<KerasTensor: shape=(None, 20100) dtype=float32 (created by layer 'concatenate_1')>"
            ]
          },
          "metadata": {},
          "execution_count": 28
        }
      ]
    }
  ]
}